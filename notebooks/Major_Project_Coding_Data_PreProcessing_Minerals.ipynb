{
  "cells": [
    {
      "cell_type": "code",
      "execution_count": null,
      "metadata": {
        "id": "97MrTD-vc1xs"
      },
      "outputs": [],
      "source": [
        "import numpy as np\n",
        "from scipy.signal import savgol_filter\n",
        "import pandas as pd\n",
        "import matplotlib.pyplot as plt\n",
        "import seaborn as sns\n",
        "from sklearn import preprocessing\n",
        "from sklearn.preprocessing import StandardScaler\n",
        "from sklearn.metrics import precision_score, recall_score, f1_score, accuracy_score, balanced_accuracy_score,classification_report, confusion_matrix\n",
        "from sklearn.model_selection import KFold, GridSearchCV\n",
        "from sklearn.model_selection import train_test_split\n",
        "\n",
        "import lightgbm as lgb\n",
        "from sklearn.utils import shuffle"
      ]
    },
    {
      "cell_type": "code",
      "execution_count": null,
      "metadata": {
        "colab": {
          "base_uri": "https://localhost:8080/"
        },
        "id": "jqCLVLpdnAd6",
        "outputId": "ed018f2d-950a-4b3a-c600-1c80b5c8849f"
      },
      "outputs": [
        {
          "output_type": "stream",
          "name": "stdout",
          "text": [
            "Mounted at /content/drive\n"
          ]
        }
      ],
      "source": [
        "from google.colab import drive\n",
        "\n",
        "drive.mount(\"/content/drive\")"
      ]
    },
    {
      "cell_type": "markdown",
      "metadata": {
        "id": "HH2_5slV2-Sv"
      },
      "source": [
        "##Smoothing the Data"
      ]
    },
    {
      "cell_type": "markdown",
      "metadata": {
        "id": "azt90DzKlBr-"
      },
      "source": [
        "## Function for Smoothing the Data"
      ]
    },
    {
      "cell_type": "code",
      "execution_count": null,
      "metadata": {
        "id": "CBlIUHYxj1LY"
      },
      "outputs": [],
      "source": [
        "def SG(df_sg_temp):\n",
        "  #Column to filter value is the column value\n",
        "  window_size = 11\n",
        "  poly_order = 2\n",
        "  df_sg_temp = savgol_filter(df_sg_temp, window_size, poly_order)\n",
        "  return df_sg_temp"
      ]
    },
    {
      "cell_type": "code",
      "execution_count": null,
      "metadata": {
        "id": "4bfG7OFCmGXE"
      },
      "outputs": [],
      "source": [
        "#Function for Spike removal\n",
        "def SR(sr_temp):\n",
        "  window_size = 5\n",
        "  threshold = 0.5\n",
        "\n",
        "  windowCv = []\n",
        "  windowMean = []\n",
        "\n",
        "  for i in range(len(sr_temp)):\n",
        "      if i<int(window_size/2):\n",
        "          thisCv = np.std(sr_temp[:i+int(window_size/2)+1])/np.mean(sr_temp[:i+int(window_size/2)+1])\n",
        "          thisMean = np.mean(sr_temp[:i+int(window_size/2)+1])\n",
        "\n",
        "      elif len(sr_temp)-1-i<int(window_size/2):\n",
        "          thisCv = np.std(sr_temp[i-int(window_size/2):])/np.mean(sr_temp[i-int(window_size/2):])\n",
        "          thisMean = np.mean(sr_temp[i-int(window_size/2):])\n",
        "  \n",
        "      else:\n",
        "          thisCv = np.std(sr_temp[i-int(window_size/2):i+int(window_size/2)+1])/np.mean(sr_temp[i-int(window_size/2):i+int(window_size/2)+1])\n",
        "          thisMean = np.mean(sr_temp[i-int(window_size/2):i+int(window_size/2)+1])\n",
        "\n",
        "      windowCv.append(thisCv)\n",
        "      windowMean.append(thisMean)\n",
        "\n",
        "  windowCv = np.array(windowCv)   \n",
        "  windowMean = np.array(windowMean)\n",
        "  cutoff = np.mean(windowCv) + threshold * (np.max(windowCv) - np.mean(windowCv))\n",
        "  sr_temp_spectra = np.where(windowCv > cutoff, windowMean, sr_temp)\n",
        "\n",
        "  return sr_temp_spectra"
      ]
    },
    {
      "cell_type": "code",
      "source": [
        "def getStandardScaledSpectra(spectra):\n",
        "    \n",
        "    targetSpectra = spectra.reshape(-1,1)\n",
        "    scaler = StandardScaler()\n",
        "    targetSpectra = scaler.fit_transform(targetSpectra)\n",
        "    targetSpectra = (targetSpectra.reshape(1,-1))[0]\n",
        "    \n",
        "    return targetSpectra\n",
        "\n",
        "def getStandardScaledData(data, mask=None):\n",
        "    \n",
        "    if mask is None: \n",
        "      mask = np.full(data.shape, False).ravel()\n",
        "\n",
        "    Ndata = np.ones(data.shape)\n",
        "    \n",
        "    for i in range(data.shape[0]):\n",
        "        if mask[i]: \n",
        "          continue\n",
        "        \n",
        "        Ndata[i] = getStandardScaledSpectra(data[i])\n",
        "    \n",
        "    return np.array(Ndata)"
      ],
      "metadata": {
        "id": "lYI1kM7E6IqX"
      },
      "execution_count": null,
      "outputs": []
    },
    {
      "cell_type": "code",
      "source": [
        "done_list = []\n",
        "for i in range(19, 40):\n",
        "  if i == 22 or i == 0:\n",
        "    continue\n",
        "  done_list.append(i)"
      ],
      "metadata": {
        "id": "lldv4rFa2WXH"
      },
      "execution_count": null,
      "outputs": []
    },
    {
      "cell_type": "code",
      "source": [
        "# done_list.remove(2)\n",
        "# print(done_list)"
      ],
      "metadata": {
        "id": "NbcdW9W243Gq"
      },
      "execution_count": null,
      "outputs": []
    },
    {
      "cell_type": "code",
      "source": [
        "for i in done_list:\n",
        "\n",
        "  # Mineral\n",
        "  df_mineral = pd.read_csv(f\"/content/drive/MyDrive/Data and Resources for Major Project/Labels Classified Data (CRISM)/{i}.csv\")\n",
        "  df_mineral = df_mineral.T\n",
        "\n",
        "  # Importing Wavelength as df\n",
        "  df_W = pd.read_csv(\"/content/drive/MyDrive/Data and Resources for Major Project/Labels Classified Data (CRISM)/Wavelength.csv\")\n",
        "  df_W=df_W.T\n",
        "  df_W.columns=['Wavelength']\n",
        "\n",
        "  L = len(df_mineral.columns)\n",
        "\n",
        "  # Preprocessing\n",
        "\n",
        "  # Savitzky-Golay filter\n",
        "  for j in range(0, L):\n",
        "    df_mineral[j] = SG(df_mineral[j])\n",
        "\n",
        "  # Spike Removal\n",
        "  \n",
        "  for k in range(0, L):\n",
        "    df_mineral[k] = SR(df_mineral[k].to_numpy())\n",
        "\n",
        "  # Spectra Standardization\n",
        "\n",
        "  for l in range(0, L):\n",
        "    df_mineral[l] = getStandardScaledSpectra(df_mineral[l].to_numpy())\n",
        "\n",
        "  # Exporting\n",
        "  df_mineral = df_mineral.T\n",
        "  df_mineral.to_csv(f\"/content/drive/MyDrive/Data and Resources for Major Project/Pre_Processed_Minerals/{i}.csv\",index=False)"
      ],
      "metadata": {
        "id": "BsP-SPRTtwqK",
        "colab": {
          "base_uri": "https://localhost:8080/"
        },
        "outputId": "b3c9e5b6-3852-4737-cd27-1c4bdf3664c2"
      },
      "execution_count": null,
      "outputs": [
        {
          "output_type": "stream",
          "name": "stderr",
          "text": [
            "<ipython-input-4-686ef176790e>:11: RuntimeWarning: invalid value encountered in scalar divide\n",
            "  thisCv = np.std(sr_temp[:i+int(window_size/2)+1])/np.mean(sr_temp[:i+int(window_size/2)+1])\n",
            "<ipython-input-4-686ef176790e>:19: RuntimeWarning: invalid value encountered in scalar divide\n",
            "  thisCv = np.std(sr_temp[i-int(window_size/2):i+int(window_size/2)+1])/np.mean(sr_temp[i-int(window_size/2):i+int(window_size/2)+1])\n",
            "<ipython-input-4-686ef176790e>:15: RuntimeWarning: invalid value encountered in scalar divide\n",
            "  thisCv = np.std(sr_temp[i-int(window_size/2):])/np.mean(sr_temp[i-int(window_size/2):])\n"
          ]
        }
      ]
    }
  ],
  "metadata": {
    "accelerator": "TPU",
    "colab": {
      "provenance": []
    },
    "gpuClass": "standard",
    "kernelspec": {
      "display_name": "Python 3",
      "name": "python3"
    },
    "language_info": {
      "name": "python"
    }
  },
  "nbformat": 4,
  "nbformat_minor": 0
}